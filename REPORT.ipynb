{
 "cells": [
  {
   "cell_type": "code",
   "execution_count": null,
   "metadata": {},
   "outputs": [],
   "source": []
  },
  {
   "cell_type": "markdown",
   "metadata": {},
   "source": [
    "# Hyper Parameters"
   ]
  },
  {
   "cell_type": "markdown",
   "metadata": {},
   "source": [
    "\n",
    "# Training Results\n",
    " The agent achieves an average score of 13 or above in about 113 episodes.\n",
    "* The progression of the average of the  scores of all agents and the moving average score over 100 episodes is shown in the next figure.\n",
    "* `score` denotes the average score over 20 agents and `average score` is the moving average score. \n",
    "![Training Performance](training_performance.png)\n"
   ]
  },
  {
   "cell_type": "markdown",
   "metadata": {},
   "source": [
    "# Future Directions\n",
    "* The hyper parameters for the algorithm have been chosen by trial and error. Better parameters can be found by using an automated hyperparameter search techniques.\n",
    "* [Prioritized experienced replay](https://arxiv.org/abs/1511.05952) can improve the performance with less\tincrease in training time. Here, the training samples are given priorities based on\ttheir TD error.\n",
    "* Experiment with  other algorithms:\n",
    "   * [Trust Region Policy Optimization](https://arxiv.org/abs/1502.05477)\n",
    "   * [D4PG](https://openreview.net/pdf?id=SyZipzbCb):  This algorithm includes prioritized experience replay and is shown to achieve higher performance quicker than DDPG. "
   ]
  },
  {
   "cell_type": "code",
   "execution_count": null,
   "metadata": {},
   "outputs": [],
   "source": []
  }
 ],
 "metadata": {
  "kernelspec": {
   "display_name": "drlnd",
   "language": "python",
   "name": "drlnd"
  },
  "language_info": {
   "codemirror_mode": {
    "name": "ipython",
    "version": 3
   },
   "file_extension": ".py",
   "mimetype": "text/x-python",
   "name": "python",
   "nbconvert_exporter": "python",
   "pygments_lexer": "ipython3",
   "version": "3.6.9"
  }
 },
 "nbformat": 4,
 "nbformat_minor": 2
}
