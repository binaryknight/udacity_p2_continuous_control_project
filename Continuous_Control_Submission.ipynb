{
 "cells": [
  {
   "cell_type": "markdown",
   "metadata": {},
   "source": [
    "# Udacity Continuous Control Project Submission\n",
    "\n",
    "* In this notebook, a solution for the second project of the Udacity Reinforcement Learning Course is shown. \n",
    "* The program trains an agent using the Reacher environment with 20 robots.\n",
    "* The top level functionality is implemented in `continuous_control.py`\n",
    "* The `src` directory contains the following files:\n",
    "  * `ddpg_agent.py`: This file implements the  Deep Deterministic Policy Gradient algorithm (DDPG).\n",
    "     * This implementation is heavily based on the Udacity Reinforcement Learning Course implementation   \n",
    "  * `model.py`: This file implements the 4 neural networks of the  (DDPG) algorithm.\n",
    "     * This implementation is heavily based on the Udacity Reinforcement Learning Course implementation \n",
    "* The `README.md` file contains setup details\n",
    "* The `Report.ipynb` file contains the description of the algorithm and other implementation details.\n",
    "* The weights of the trained neural networks are in the following files:\n",
    "  * `actor_local_weights.pt`\n",
    "  * `actor_target_weights.pt`\n",
    "  * `critic_local_weights.pt`\n",
    "  * `critic_target_weights.pt`\n",
    "* Training results (scores and the average score) are stored in the `training_reslts.pkl` pickle file"
   ]
  },
  {
   "cell_type": "markdown",
   "metadata": {},
   "source": [
    "### 1. Setup"
   ]
  },
  {
   "cell_type": "code",
   "execution_count": 1,
   "metadata": {},
   "outputs": [],
   "source": [
    "from unityagents import UnityEnvironment\n",
    "import numpy as np\n",
    "import matplotlib.pyplot as plt\n",
    "%matplotlib inline\n",
    "import continuous_control as cc"
   ]
  },
  {
   "cell_type": "markdown",
   "metadata": {},
   "source": [
    "### 2. Load the simulaton environment"
   ]
  },
  {
   "cell_type": "code",
   "execution_count": 2,
   "metadata": {},
   "outputs": [
    {
     "name": "stderr",
     "output_type": "stream",
     "text": [
      "INFO:unityagents:\n",
      "'Academy' started successfully!\n",
      "Unity Academy name: Academy\n",
      "        Number of Brains: 1\n",
      "        Number of External Brains : 1\n",
      "        Lesson number : 0\n",
      "        Reset Parameters :\n",
      "\t\tgoal_speed -> 1.0\n",
      "\t\tgoal_size -> 5.0\n",
      "Unity brain name: ReacherBrain\n",
      "        Number of Visual Observations (per agent): 0\n",
      "        Vector Observation space type: continuous\n",
      "        Vector Observation space size (per agent): 33\n",
      "        Number of stacked Vector Observation: 1\n",
      "        Vector Action space type: continuous\n",
      "        Vector Action space size (per agent): 4\n",
      "        Vector Action descriptions: , , , \n"
     ]
    }
   ],
   "source": [
    " env = UnityEnvironment(file_name=\"Reacher20.app\")"
   ]
  },
  {
   "cell_type": "markdown",
   "metadata": {},
   "source": [
    "### 3. Train the agent"
   ]
  },
  {
   "cell_type": "code",
   "execution_count": 3,
   "metadata": {},
   "outputs": [
    {
     "name": "stdout",
     "output_type": "stream",
     "text": [
      "Number of agents: 20\n",
      "Number of actions: 4\n",
      "States have length: 33\n",
      "There are 20 agents. Each observes a state with length: 33\n",
      "Episode: 1 Episode Duration: 100s min_score: 0.15 max_score: 1.59 average_score: 0.77\n",
      "Episode: 2 Episode Duration: 101s min_score: 0.19 max_score: 2.50 average_score: 0.98\n",
      "Episode: 3 Episode Duration: 101s min_score: 0.09 max_score: 2.13 average_score: 0.96\n",
      "Episode: 4 Episode Duration: 103s min_score: 0.11 max_score: 1.76 average_score: 0.92\n",
      "Episode: 5 Episode Duration: 101s min_score: 0.24 max_score: 1.33 average_score: 0.89\n",
      "Episode: 6 Episode Duration: 102s min_score: 0.34 max_score: 1.99 average_score: 0.91\n",
      "Episode: 7 Episode Duration: 102s min_score: 0.54 max_score: 2.90 average_score: 1.04\n",
      "Episode: 8 Episode Duration: 101s min_score: 0.56 max_score: 4.74 average_score: 1.17\n",
      "Episode: 9 Episode Duration: 102s min_score: 0.92 max_score: 4.53 average_score: 1.31\n",
      "Episode: 10 Episode Duration: 103s min_score: 0.75 max_score: 5.20 average_score: 1.44\n",
      "Episode: 11 Episode Duration: 109s min_score: 0.47 max_score: 5.70 average_score: 1.56\n",
      "Episode: 12 Episode Duration: 108s min_score: 0.15 max_score: 6.19 average_score: 1.69\n",
      "Episode: 13 Episode Duration: 140s min_score: 1.29 max_score: 8.85 average_score: 1.91\n",
      "Episode: 14 Episode Duration: 141s min_score: 1.37 max_score: 10.37 average_score: 2.16\n",
      "Episode: 15 Episode Duration: 142s min_score: 1.32 max_score: 9.73 average_score: 2.41\n",
      "Episode: 16 Episode Duration: 144s min_score: 1.62 max_score: 10.40 average_score: 2.64\n",
      "Episode: 17 Episode Duration: 143s min_score: 1.39 max_score: 14.49 average_score: 2.96\n",
      "Episode: 18 Episode Duration: 147s min_score: 3.27 max_score: 13.12 average_score: 3.26\n",
      "Episode: 19 Episode Duration: 144s min_score: 4.93 max_score: 14.23 average_score: 3.61\n",
      "Episode: 20 Episode Duration: 147s min_score: 4.18 max_score: 14.27 average_score: 3.90\n",
      "Episode: 21 Episode Duration: 148s min_score: 6.94 max_score: 18.61 average_score: 4.31\n",
      "Episode: 22 Episode Duration: 159s min_score: 7.88 max_score: 20.60 average_score: 4.73\n",
      "Episode: 23 Episode Duration: 156s min_score: 9.11 max_score: 23.53 average_score: 5.23\n",
      "Episode: 24 Episode Duration: 155s min_score: 10.20 max_score: 26.62 average_score: 5.75\n",
      "Episode: 25 Episode Duration: 159s min_score: 8.66 max_score: 28.06 average_score: 6.29\n",
      "Episode: 26 Episode Duration: 160s min_score: 9.22 max_score: 33.29 average_score: 6.86\n",
      "Episode: 27 Episode Duration: 163s min_score: 8.02 max_score: 27.48 average_score: 7.38\n",
      "Episode: 28 Episode Duration: 161s min_score: 12.59 max_score: 29.82 average_score: 7.89\n",
      "Episode: 29 Episode Duration: 167s min_score: 16.37 max_score: 29.46 average_score: 8.42\n",
      "Episode: 30 Episode Duration: 171s min_score: 11.28 max_score: 28.99 average_score: 8.82\n",
      "Episode: 31 Episode Duration: 168s min_score: 10.92 max_score: 29.17 average_score: 9.22\n",
      "Episode: 32 Episode Duration: 170s min_score: 14.46 max_score: 30.29 average_score: 9.64\n",
      "Episode: 33 Episode Duration: 162s min_score: 16.82 max_score: 31.99 average_score: 10.13\n",
      "Episode: 34 Episode Duration: 161s min_score: 16.82 max_score: 30.87 average_score: 10.54\n",
      "Episode: 35 Episode Duration: 163s min_score: 16.95 max_score: 30.26 average_score: 10.95\n",
      "Episode: 36 Episode Duration: 162s min_score: 13.66 max_score: 29.28 average_score: 11.30\n",
      "Episode: 37 Episode Duration: 163s min_score: 15.61 max_score: 29.46 average_score: 11.62\n",
      "Episode: 38 Episode Duration: 161s min_score: 16.13 max_score: 28.66 average_score: 11.95\n",
      "Episode: 39 Episode Duration: 162s min_score: 17.91 max_score: 33.47 average_score: 12.27\n",
      "Episode: 40 Episode Duration: 164s min_score: 22.25 max_score: 34.43 average_score: 12.65\n",
      "Episode: 41 Episode Duration: 163s min_score: 23.41 max_score: 36.70 average_score: 13.00\n",
      "Episode: 42 Episode Duration: 171s min_score: 24.00 max_score: 39.53 average_score: 13.38\n",
      "Episode: 43 Episode Duration: 168s min_score: 23.93 max_score: 34.26 average_score: 13.75\n",
      "Episode: 44 Episode Duration: 176s min_score: 25.76 max_score: 33.02 average_score: 14.10\n",
      "Episode: 45 Episode Duration: 198s min_score: 23.39 max_score: 35.38 average_score: 14.46\n",
      "Episode: 46 Episode Duration: 181s min_score: 23.74 max_score: 34.48 average_score: 14.79\n",
      "Episode: 47 Episode Duration: 190s min_score: 22.25 max_score: 39.61 average_score: 15.12\n",
      "Episode: 48 Episode Duration: 189s min_score: 16.68 max_score: 33.22 average_score: 15.41\n",
      "Episode: 49 Episode Duration: 186s min_score: 24.87 max_score: 39.63 average_score: 15.72\n",
      "Episode: 50 Episode Duration: 181s min_score: 21.42 max_score: 35.27 average_score: 16.02\n",
      "Episode: 51 Episode Duration: 180s min_score: 28.43 max_score: 37.29 average_score: 16.34\n",
      "Episode: 52 Episode Duration: 176s min_score: 27.07 max_score: 37.02 average_score: 16.63\n",
      "Episode: 53 Episode Duration: 175s min_score: 19.03 max_score: 39.17 average_score: 16.93\n",
      "Episode: 54 Episode Duration: 174s min_score: 23.65 max_score: 39.29 average_score: 17.18\n",
      "Episode: 55 Episode Duration: 172s min_score: 24.17 max_score: 36.71 average_score: 17.44\n",
      "Episode: 56 Episode Duration: 186s min_score: 23.22 max_score: 39.35 average_score: 17.70\n",
      "Episode: 57 Episode Duration: 171s min_score: 27.00 max_score: 36.53 average_score: 17.96\n",
      "Episode: 58 Episode Duration: 172s min_score: 22.75 max_score: 36.61 average_score: 18.22\n",
      "Episode: 59 Episode Duration: 174s min_score: 30.66 max_score: 39.54 average_score: 18.49\n",
      "Episode: 60 Episode Duration: 174s min_score: 26.49 max_score: 38.49 average_score: 18.74\n",
      "Episode: 61 Episode Duration: 176s min_score: 26.19 max_score: 39.36 average_score: 18.99\n",
      "Episode: 62 Episode Duration: 175s min_score: 23.41 max_score: 39.40 average_score: 19.23\n",
      "Episode: 63 Episode Duration: 181s min_score: 25.43 max_score: 39.57 average_score: 19.47\n",
      "Episode: 64 Episode Duration: 197s min_score: 22.33 max_score: 38.57 average_score: 19.68\n",
      "Episode: 65 Episode Duration: 190s min_score: 21.17 max_score: 39.65 average_score: 19.90\n",
      "Episode: 66 Episode Duration: 180s min_score: 21.72 max_score: 37.71 average_score: 20.09\n",
      "Episode: 67 Episode Duration: 192s min_score: 23.87 max_score: 37.87 average_score: 20.30\n",
      "Episode: 68 Episode Duration: 179s min_score: 24.19 max_score: 38.17 average_score: 20.50\n",
      "Episode: 69 Episode Duration: 184s min_score: 21.91 max_score: 39.52 average_score: 20.68\n",
      "Episode: 70 Episode Duration: 181s min_score: 24.78 max_score: 38.31 average_score: 20.85\n",
      "Episode: 71 Episode Duration: 196s min_score: 25.20 max_score: 39.61 average_score: 21.02\n",
      "Episode: 72 Episode Duration: 204s min_score: 27.33 max_score: 39.50 average_score: 21.22\n",
      "Episode: 73 Episode Duration: 189s min_score: 25.76 max_score: 39.58 average_score: 21.41\n",
      "Episode: 74 Episode Duration: 193s min_score: 26.39 max_score: 38.67 average_score: 21.55\n",
      "Episode: 75 Episode Duration: 184s min_score: 29.93 max_score: 38.29 average_score: 21.72\n",
      "Episode: 76 Episode Duration: 189s min_score: 29.10 max_score: 38.67 average_score: 21.90\n",
      "Episode: 77 Episode Duration: 199s min_score: 31.26 max_score: 39.62 average_score: 22.08\n",
      "Episode: 78 Episode Duration: 206s min_score: 26.86 max_score: 39.53 average_score: 22.23\n",
      "Episode: 79 Episode Duration: 192s min_score: 30.38 max_score: 39.00 average_score: 22.40\n",
      "Episode: 80 Episode Duration: 199s min_score: 32.10 max_score: 38.35 average_score: 22.57\n",
      "Episode: 81 Episode Duration: 208s min_score: 27.13 max_score: 39.40 average_score: 22.72\n",
      "Episode: 82 Episode Duration: 212s min_score: 30.23 max_score: 38.76 average_score: 22.86\n",
      "Episode: 83 Episode Duration: 198s min_score: 30.88 max_score: 39.59 average_score: 23.01\n",
      "Episode: 84 Episode Duration: 207s min_score: 29.24 max_score: 39.24 average_score: 23.16\n",
      "Episode: 85 Episode Duration: 206s min_score: 33.24 max_score: 39.57 average_score: 23.32\n",
      "Episode: 86 Episode Duration: 175s min_score: 32.49 max_score: 39.42 average_score: 23.48\n",
      "Episode: 87 Episode Duration: 195s min_score: 33.36 max_score: 39.61 average_score: 23.64\n",
      "Episode: 88 Episode Duration: 183s min_score: 30.67 max_score: 39.55 average_score: 23.79\n",
      "Episode: 89 Episode Duration: 181s min_score: 31.14 max_score: 39.64 average_score: 23.93\n",
      "Episode: 90 Episode Duration: 180s min_score: 31.07 max_score: 39.62 average_score: 24.07\n",
      "Episode: 91 Episode Duration: 183s min_score: 28.12 max_score: 39.56 average_score: 24.20\n"
     ]
    },
    {
     "name": "stdout",
     "output_type": "stream",
     "text": [
      "Episode: 92 Episode Duration: 182s min_score: 34.90 max_score: 39.52 average_score: 24.34\n",
      "Episode: 93 Episode Duration: 172s min_score: 28.21 max_score: 39.50 average_score: 24.47\n",
      "Episode: 94 Episode Duration: 173s min_score: 31.92 max_score: 39.65 average_score: 24.61\n",
      "Episode: 95 Episode Duration: 177s min_score: 29.64 max_score: 39.67 average_score: 24.74\n",
      "Episode: 96 Episode Duration: 178s min_score: 33.87 max_score: 39.29 average_score: 24.86\n",
      "Episode: 97 Episode Duration: 172s min_score: 34.20 max_score: 39.54 average_score: 24.98\n",
      "Episode: 98 Episode Duration: 172s min_score: 36.55 max_score: 39.56 average_score: 25.12\n",
      "Episode: 99 Episode Duration: 173s min_score: 34.40 max_score: 39.58 average_score: 25.25\n",
      "Episode: 100 Episode Duration: 170s min_score: 33.63 max_score: 39.64 average_score: 25.38\n",
      "Episode: 101 Episode Duration: 166s min_score: 36.58 max_score: 39.66 average_score: 25.76\n",
      "Episode: 102 Episode Duration: 166s min_score: 35.79 max_score: 39.62 average_score: 26.14\n",
      "Episode: 103 Episode Duration: 168s min_score: 35.31 max_score: 39.54 average_score: 26.51\n",
      "Episode: 104 Episode Duration: 173s min_score: 36.72 max_score: 39.48 average_score: 26.89\n",
      "Episode: 105 Episode Duration: 168s min_score: 35.83 max_score: 39.45 average_score: 27.26\n",
      "Episode: 106 Episode Duration: 173s min_score: 34.97 max_score: 39.53 average_score: 27.64\n",
      "Episode: 107 Episode Duration: 169s min_score: 35.08 max_score: 39.64 average_score: 28.00\n",
      "Episode: 108 Episode Duration: 172s min_score: 34.91 max_score: 39.63 average_score: 28.36\n",
      "Episode: 109 Episode Duration: 172s min_score: 35.70 max_score: 39.51 average_score: 28.72\n",
      "Episode: 110 Episode Duration: 182s min_score: 36.21 max_score: 39.65 average_score: 29.08\n",
      "Episode: 111 Episode Duration: 174s min_score: 34.14 max_score: 39.57 average_score: 29.43\n",
      "Episode: 112 Episode Duration: 181s min_score: 35.11 max_score: 39.70 average_score: 29.78\n",
      "Episode: 113 Episode Duration: 182s min_score: 35.06 max_score: 39.57 average_score: 30.12\n",
      "\n",
      "Environment solved in 113 episodes! \tAverage Score: 30.12\n",
      "Done training\n"
     ]
    }
   ],
   "source": [
    "num_episodes,  avg_scores, scores = cc.train(env, num_episodes=500)\n",
    "print(\"Done training\")"
   ]
  },
  {
   "cell_type": "markdown",
   "metadata": {},
   "source": [
    "### 4. Plot the results"
   ]
  },
  {
   "cell_type": "code",
   "execution_count": 4,
   "metadata": {},
   "outputs": [
    {
     "data": {
      "image/png": "[encoded data removed]",
      "text/plain": [
       "<Figure size 432x288 with 1 Axes>"
      ]
     },
     "metadata": {
      "needs_background": "light"
     },
     "output_type": "display_data"
    }
   ],
   "source": [
    "mean_scores = [np.mean(m) for m in scores]\n",
    "plt.ion()\n",
    "fig = plt.figure()\n",
    "_ = fig.add_subplot(111)\n",
    "plt.plot(np.arange(len(mean_scores)), mean_scores)\n",
    "plt.plot(np.arange(len(avg_scores)), avg_scores)\n",
    "plt.ylabel('Score and Average Scores ')\n",
    "plt.xlabel('Episode #')\n",
    "plt.legend(['Average Score', 'Moving Average Score over 100 Episodes'], loc='upper left')\n",
    "plt.savefig('training_performance.png')\n",
    "plt.show()"
   ]
  },
  {
   "cell_type": "markdown",
   "metadata": {},
   "source": [
    "### 5. Run the trained Agent"
   ]
  },
  {
   "cell_type": "code",
   "execution_count": 5,
   "metadata": {},
   "outputs": [
    {
     "name": "stdout",
     "output_type": "stream",
     "text": [
      "Done simulating\n"
     ]
    }
   ],
   "source": [
    "scores = cc.run(env,num_episodes=1,actor_local_load_filename='actor_local_weights.pt')\n",
    "print(\"Done simulating\")"
   ]
  },
  {
   "cell_type": "markdown",
   "metadata": {},
   "source": [
    "### 6. Close the  simulation environment"
   ]
  },
  {
   "cell_type": "code",
   "execution_count": null,
   "metadata": {},
   "outputs": [],
   "source": [
    "env.close()"
   ]
  }
 ],
 "metadata": {
  "kernelspec": {
   "display_name": "drlnd",
   "language": "python",
   "name": "drlnd"
  },
  "language_info": {
   "codemirror_mode": {
    "name": "ipython",
    "version": 3
   },
   "file_extension": ".py",
   "mimetype": "text/x-python",
   "name": "python",
   "nbconvert_exporter": "python",
   "pygments_lexer": "ipython3",
   "version": "3.6.9"
  }
 },
 "nbformat": 4,
 "nbformat_minor": 2
}
